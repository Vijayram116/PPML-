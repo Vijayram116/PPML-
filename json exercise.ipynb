{
 "cells": [
  {
   "cell_type": "code",
   "execution_count": 37,
   "id": "caeaa342",
   "metadata": {},
   "outputs": [],
   "source": [
    "#text file and json operations \n",
    "# open a text file in write mode to write the given lines \n",
    "\n",
    "f=open(\"C:/Users/REC/VIJAYRAM.txt\",'w')\n",
    "f.write(\"I am vijayram \\n\")\n",
    "f.write(\"form electrical and electronics engineering department \\n \")\n",
    "f.close()\n"
   ]
  },
  {
   "cell_type": "code",
   "execution_count": 39,
   "id": "e246e690",
   "metadata": {},
   "outputs": [
    {
     "name": "stdout",
     "output_type": "stream",
     "text": [
      "I am vijayram \n",
      "\n",
      "form electrical and electronics engineering department \n",
      "\n"
     ]
    }
   ],
   "source": [
    "#Open a text file in 'read' mode to read and print the available lined - read line function \n",
    "\n",
    "k=open(\"C:/Users/REC/VIJAYRAM.txt\",'r')\n",
    "print(k.readline())\n",
    "print(k.readline())\n",
    "\n",
    "k.close()\n"
   ]
  },
  {
   "cell_type": "code",
   "execution_count": 44,
   "id": "a1543c79",
   "metadata": {},
   "outputs": [],
   "source": [
    "#open  a text file in 'Append' mode to add/append full text - read fucntion \n",
    "m=open(\"C:/users/REC/book.txt\",'a')\n",
    "m.write(\"currenty finished the book FOUTH WING \")\n",
    "m.close()"
   ]
  },
  {
   "cell_type": "code",
   "execution_count": 45,
   "id": "89764fa4",
   "metadata": {},
   "outputs": [
    {
     "name": "stdout",
     "output_type": "stream",
     "text": [
      "I am vijayram \n",
      "form electrical and electronics engineering department \n",
      " currenty finished the book FOUTH WING \n"
     ]
    }
   ],
   "source": [
    "# Open the text file in read mode to read and print the available text -read function \n",
    "p=open(\"C:/Users/REC/VIJAYRAM.txt\",'r')\n",
    "print(p.read())\n",
    "p.close()"
   ]
  },
  {
   "cell_type": "code",
   "execution_count": 51,
   "id": "b893d462",
   "metadata": {},
   "outputs": [
    {
     "name": "stdout",
     "output_type": "stream",
     "text": [
      "20\n",
      "{'name': 'ram', 'age': '20', 'city': 'Tokyo'}\n"
     ]
    }
   ],
   "source": [
    "import json\n",
    "# some json#\n",
    "\n",
    "x='{\"name\":\"ram\",\"age\":\"20\",\"city\":\"Tokyo\"}'\n",
    "y=json.loads(x)\n",
    "print(y[\"age\"])\n",
    "print(y)"
   ]
  },
  {
   "cell_type": "code",
   "execution_count": 52,
   "id": "d4d55126",
   "metadata": {},
   "outputs": [
    {
     "name": "stdout",
     "output_type": "stream",
     "text": [
      "\"{\\\"name\\\":\\\"ram\\\",\\\"age\\\":\\\"20\\\",\\\"city\\\":\\\"Tokyo\\\"}\"\n"
     ]
    }
   ],
   "source": [
    "# a python object (dict):\n",
    "x\n",
    "{\n",
    "    \"name\":\"vijay\",\n",
    "    \"age\":20,\n",
    "    \"city\":\"Tokyo\"\n",
    "}\n",
    "\n",
    "y=json.dumps(x)\n",
    "print(y)"
   ]
  },
  {
   "cell_type": "code",
   "execution_count": null,
   "id": "48a2f9c6",
   "metadata": {},
   "outputs": [],
   "source": []
  }
 ],
 "metadata": {
  "kernelspec": {
   "display_name": "Python 3 (ipykernel)",
   "language": "python",
   "name": "python3"
  },
  "language_info": {
   "codemirror_mode": {
    "name": "ipython",
    "version": 3
   },
   "file_extension": ".py",
   "mimetype": "text/x-python",
   "name": "python",
   "nbconvert_exporter": "python",
   "pygments_lexer": "ipython3",
   "version": "3.11.5"
  }
 },
 "nbformat": 4,
 "nbformat_minor": 5
}
