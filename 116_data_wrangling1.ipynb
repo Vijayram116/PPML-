{
 "cells": [
  {
   "cell_type": "code",
   "execution_count": 23,
   "id": "a5cb4c67",
   "metadata": {},
   "outputs": [
    {
     "name": "stdout",
     "output_type": "stream",
     "text": [
      "    name  age\n",
      "0  Saily   50\n",
      "1   Mary   40\n",
      "2   Jhon   30\n",
      "   qualified  age\n",
      "0       True   77\n",
      "1      False   44\n",
      "2      False   22\n"
     ]
    }
   ],
   "source": [
    "import pandas as pd \n",
    "\n",
    "\n",
    "data1={\n",
    "    \"name\":[\"Saily\",\"Mary\",\"Jhon\"],\n",
    "    \"age\":[50,40,30]\n",
    "}\n",
    "\n",
    "\n",
    "data2={\n",
    "    \"qualified\":[True,False,False],\n",
    "    \"age\":[77,44,22]\n",
    "}\n",
    "\n",
    "df1=pd.DataFrame(data1)\n",
    "df2=pd.DataFrame(data2)\n",
    "print(df1)\n",
    "print(df2)\n",
    "\n",
    "\n"
   ]
  },
  {
   "cell_type": "code",
   "execution_count": 7,
   "id": "a8e8154f",
   "metadata": {},
   "outputs": [
    {
     "name": "stdout",
     "output_type": "stream",
     "text": [
      "    name  age  qualified\n",
      "0  Saily   50       True\n",
      "1   Mary   40      False\n",
      "2   Jhon   30      False\n"
     ]
    }
   ],
   "source": [
    "# to join dataframe\n",
    "\n",
    "newdf=df1.join(df2)\n",
    "print( newdf)"
   ]
  },
  {
   "cell_type": "code",
   "execution_count": 24,
   "id": "fe5822eb",
   "metadata": {},
   "outputs": [
    {
     "name": "stdout",
     "output_type": "stream",
     "text": [
      "    name  age qualified\n",
      "0  Saily   50       NaN\n",
      "1   Mary   40       NaN\n",
      "2   Jhon   30       NaN\n"
     ]
    }
   ],
   "source": [
    "#to merge functiom \n",
    "newdf=df1.merge(df2,how=\"left\")\n",
    "print(newdf)\n"
   ]
  },
  {
   "cell_type": "code",
   "execution_count": 31,
   "id": "d868185d",
   "metadata": {},
   "outputs": [
    {
     "data": {
      "text/html": [
       "<div>\n",
       "<style scoped>\n",
       "    .dataframe tbody tr th:only-of-type {\n",
       "        vertical-align: middle;\n",
       "    }\n",
       "\n",
       "    .dataframe tbody tr th {\n",
       "        vertical-align: top;\n",
       "    }\n",
       "\n",
       "    .dataframe thead th {\n",
       "        text-align: right;\n",
       "    }\n",
       "</style>\n",
       "<table border=\"1\" class=\"dataframe\">\n",
       "  <thead>\n",
       "    <tr style=\"text-align: right;\">\n",
       "      <th></th>\n",
       "      <th>team</th>\n",
       "      <th>points</th>\n",
       "      <th>assists</th>\n",
       "      <th>rebounds</th>\n",
       "    </tr>\n",
       "  </thead>\n",
       "  <tbody>\n",
       "    <tr>\n",
       "      <th>0</th>\n",
       "      <td>A</td>\n",
       "      <td>88</td>\n",
       "      <td>22</td>\n",
       "      <td>22</td>\n",
       "    </tr>\n",
       "    <tr>\n",
       "      <th>1</th>\n",
       "      <td>B</td>\n",
       "      <td>91</td>\n",
       "      <td>28</td>\n",
       "      <td>28</td>\n",
       "    </tr>\n",
       "    <tr>\n",
       "      <th>2</th>\n",
       "      <td>C</td>\n",
       "      <td>99</td>\n",
       "      <td>30</td>\n",
       "      <td>30</td>\n",
       "    </tr>\n",
       "    <tr>\n",
       "      <th>3</th>\n",
       "      <td>D</td>\n",
       "      <td>94</td>\n",
       "      <td>31</td>\n",
       "      <td>31</td>\n",
       "    </tr>\n",
       "  </tbody>\n",
       "</table>\n",
       "</div>"
      ],
      "text/plain": [
       "  team  points  assists  rebounds\n",
       "0    A      88       22        22\n",
       "1    B      91       28        28\n",
       "2    C      99       30        30\n",
       "3    D      94       31        31"
      ]
     },
     "execution_count": 31,
     "metadata": {},
     "output_type": "execute_result"
    }
   ],
   "source": [
    "# create a DataFrame\n",
    "\n",
    "frame={\n",
    "    \"team\":['A','B','C','D'],\n",
    "    \"points\":[88,91,99,94],\n",
    "    \"assists\":[22,28,30,31],\n",
    "    \"rebounds\": [22,28,30,31]\n",
    "}\n",
    "df=pd.DataFrame(frame)\n",
    "df"
   ]
  },
  {
   "cell_type": "code",
   "execution_count": 32,
   "id": "a698d29c",
   "metadata": {},
   "outputs": [
    {
     "name": "stdout",
     "output_type": "stream",
     "text": [
      "   team  variable  value\n",
      "0     A    points     88\n",
      "1     B    points     91\n",
      "2     C    points     99\n",
      "3     D    points     94\n",
      "4     A   assists     22\n",
      "5     B   assists     28\n",
      "6     C   assists     30\n",
      "7     D   assists     31\n",
      "8     A  rebounds     22\n",
      "9     B  rebounds     28\n",
      "10    C  rebounds     30\n",
      "11    D  rebounds     31\n"
     ]
    }
   ],
   "source": [
    "#reshape DataFrame frame wide format to long \n",
    "df=pd.melt(df,id_vars=\"team\",value_vars=['points','assists','rebounds'])\n",
    "print(df)"
   ]
  },
  {
   "cell_type": "code",
   "execution_count": null,
   "id": "b7d6b6dc",
   "metadata": {},
   "outputs": [],
   "source": []
  }
 ],
 "metadata": {
  "kernelspec": {
   "display_name": "Python 3 (ipykernel)",
   "language": "python",
   "name": "python3"
  },
  "language_info": {
   "codemirror_mode": {
    "name": "ipython",
    "version": 3
   },
   "file_extension": ".py",
   "mimetype": "text/x-python",
   "name": "python",
   "nbconvert_exporter": "python",
   "pygments_lexer": "ipython3",
   "version": "3.9.12"
  }
 },
 "nbformat": 4,
 "nbformat_minor": 5
}
