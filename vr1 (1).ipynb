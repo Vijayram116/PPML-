{
 "cells": [
  {
   "cell_type": "code",
   "execution_count": 1,
   "id": "bec9a4eb-06e5-4e51-b58d-a17c5c6d66bf",
   "metadata": {},
   "outputs": [
    {
     "name": "stdout",
     "output_type": "stream",
     "text": [
      "[[1 2 3]\n",
      " [4 5 6]\n",
      " [7 8 9]]\n"
     ]
    }
   ],
   "source": [
    "import numpy as np\n",
    "a=np.array([[1,2,3],[4,5,6],[7,8,9]])\n",
    "print(a)"
   ]
  },
  {
   "cell_type": "code",
   "execution_count": 2,
   "id": "20876e27-993b-46d7-ab0f-a46a5f48a8d8",
   "metadata": {},
   "outputs": [
    {
     "name": "stdout",
     "output_type": "stream",
     "text": [
      "[[0. 0. 0.]\n",
      " [0. 0. 0.]\n",
      " [0. 0. 0.]]\n"
     ]
    }
   ],
   "source": [
    "b=np.zeros((3,3))\n",
    "print(b)\n"
   ]
  },
  {
   "cell_type": "code",
   "execution_count": 3,
   "id": "db2e9c0f-a45d-410c-9c9f-ea9b133825b0",
   "metadata": {},
   "outputs": [
    {
     "name": "stdout",
     "output_type": "stream",
     "text": [
      "[[5 5 5]\n",
      " [5 5 5]\n",
      " [5 5 5]]\n"
     ]
    }
   ],
   "source": [
    "c=np.full((3,3),5)\n",
    "print(c)"
   ]
  },
  {
   "cell_type": "code",
   "execution_count": 6,
   "id": "0e75daee-fae3-43ef-b10c-dedf708c6e95",
   "metadata": {},
   "outputs": [
    {
     "name": "stdout",
     "output_type": "stream",
     "text": [
      "\n",
      " A random array:\n",
      "  [[0.40867397 0.3026199  0.45870351]\n",
      " [0.18353755 0.53521912 0.64558704]\n",
      " [0.71904811 0.56151876 0.1192035 ]]\n"
     ]
    }
   ],
   "source": [
    "d=np.random.random((3,3))\n",
    "print(\"\\n A random array:\\n \",d)\n"
   ]
  },
  {
   "cell_type": "code",
   "execution_count": 7,
   "id": "02b5f700-c76e-4048-ae1b-670ed7146c28",
   "metadata": {},
   "outputs": [
    {
     "name": "stdout",
     "output_type": "stream",
     "text": [
      "[ 0  2  4  6  8 10 12 14 16 18 20 22 24 26 28]\n"
     ]
    }
   ],
   "source": [
    "e=np.arange(0,30,2)\n",
    "print(e)"
   ]
  },
  {
   "cell_type": "code",
   "execution_count": 8,
   "id": "18d95bc7-c23a-4d7e-8940-1d61a23a280f",
   "metadata": {},
   "outputs": [
    {
     "name": "stdout",
     "output_type": "stream",
     "text": [
      "[[1 2 3 4]\n",
      " [5 6 9 8]\n",
      " [1 2 0 1]]\n"
     ]
    }
   ],
   "source": [
    "arr=np.array([[1,2,3,4],[5,6,9,8],[1,2,0,1]])\n",
    "print(arr)\n"
   ]
  },
  {
   "cell_type": "code",
   "execution_count": 13,
   "id": "0c90a528-24fe-4d32-af2b-28edd582c7b7",
   "metadata": {},
   "outputs": [
    {
     "name": "stdout",
     "output_type": "stream",
     "text": [
      "[[1 2 3]\n",
      " [4 5 6]\n",
      " [9 8 1]\n",
      " [2 0 1]]\n"
     ]
    }
   ],
   "source": [
    "newarr=arr.reshape(4,3)\n",
    "print(newarr)\n"
   ]
  },
  {
   "cell_type": "code",
   "execution_count": 14,
   "id": "1fdc9c6e-cbf7-45d3-8183-902e7e532366",
   "metadata": {},
   "outputs": [
    {
     "name": "stdout",
     "output_type": "stream",
     "text": [
      "\n",
      " size of the array : 12\n"
     ]
    }
   ],
   "source": [
    "print(\"\\n size of the array :\",arr.size)\n"
   ]
  },
  {
   "cell_type": "code",
   "execution_count": 16,
   "id": "14f16754-f304-4697-837a-04bbcac7426b",
   "metadata": {},
   "outputs": [
    {
     "name": "stdout",
     "output_type": "stream",
     "text": [
      "[1 2 3 4 5 6 9 8 1 2 0 1]\n"
     ]
    }
   ],
   "source": [
    "flat=arr.flatten()\n",
    "print(flat)"
   ]
  },
  {
   "cell_type": "code",
   "execution_count": 29,
   "id": "acd23fb6-0342-46a4-86b2-e67a26381472",
   "metadata": {},
   "outputs": [
    {
     "name": "stdout",
     "output_type": "stream",
     "text": [
      "[[1 2 3 4]\n",
      " [4 5 6 7]\n",
      " [3 7 8 9]\n",
      " [4 1 2 7]]\n"
     ]
    }
   ],
   "source": [
    "tem=np.array([[1,2,3,4],[4,5,6,7]])\n",
    "tem2=np.array([[3,7,8,9],[4,1,2,7]])\n",
    "join=np.concatenate((tem,tem2))\n",
    "print(join)\n"
   ]
  },
  {
   "cell_type": "code",
   "execution_count": 31,
   "id": "9699a351-8bf4-435f-879f-f74fe9c89d53",
   "metadata": {},
   "outputs": [
    {
     "name": "stdout",
     "output_type": "stream",
     "text": [
      "[[1 2 3 4 3 7 8 9]\n",
      " [4 5 6 7 4 1 2 7]]\n"
     ]
    }
   ],
   "source": [
    "arr=np.hstack((tem,tem2))\n",
    "print(arr)"
   ]
  },
  {
   "cell_type": "code",
   "execution_count": 32,
   "id": "1141524d-aa62-444a-8a69-1ac82730f469",
   "metadata": {},
   "outputs": [
    {
     "name": "stdout",
     "output_type": "stream",
     "text": [
      "[[1 2 3 4]\n",
      " [4 5 6 7]\n",
      " [3 7 8 9]\n",
      " [4 1 2 7]]\n"
     ]
    }
   ],
   "source": [
    "arr=np.vstack((tem,tem2))\n",
    "print(arr)\n"
   ]
  },
  {
   "cell_type": "code",
   "execution_count": 35,
   "id": "c1483353-5213-4ca6-9ba2-86b5417bcc09",
   "metadata": {},
   "outputs": [
    {
     "name": "stdout",
     "output_type": "stream",
     "text": [
      "[[[1 3]\n",
      "  [2 7]\n",
      "  [3 8]\n",
      "  [4 9]]\n",
      "\n",
      " [[4 4]\n",
      "  [5 1]\n",
      "  [6 2]\n",
      "  [7 7]]]\n"
     ]
    }
   ],
   "source": [
    "arr=np.dstack((tem,tem2))\n",
    "print(arr)"
   ]
  },
  {
   "cell_type": "code",
   "execution_count": 38,
   "id": "7618675a-e26a-4d14-a128-f6cc37b1469d",
   "metadata": {},
   "outputs": [
    {
     "name": "stdout",
     "output_type": "stream",
     "text": [
      "[array([1, 2]), array([3, 4]), array([5])]\n"
     ]
    }
   ],
   "source": [
    "arr=np.array([1,2,3,4,5])\n",
    "newarr=np.array_split(arr,3)\n",
    "print(newarr)"
   ]
  },
  {
   "cell_type": "code",
   "execution_count": 39,
   "id": "f2528edb-22c4-4e89-ab2f-d1206b4ed7d3",
   "metadata": {},
   "outputs": [
    {
     "name": "stdout",
     "output_type": "stream",
     "text": [
      "original array: [1 2 3 4 5 4 4]\n",
      "\n",
      " indexes where the value is 4 : (array([3, 5, 6], dtype=int64),)\n"
     ]
    }
   ],
   "source": [
    "arr=np.array([1,2,3,4,5,4,4])\n",
    "print(\"original array:\",arr)\n",
    "x=np.where(arr==4)\n",
    "print(\"\\n indexes where the value is 4 :\",x)\n"
   ]
  },
  {
   "cell_type": "code",
   "execution_count": 42,
   "id": "12fab4cb-9348-4848-a392-0a092ba4ab3b",
   "metadata": {},
   "outputs": [
    {
     "name": "stdout",
     "output_type": "stream",
     "text": [
      "original array : (array([0, 1, 5], dtype=int64),)\n",
      "\n",
      " indexes where the values are even : (array([3, 5, 6], dtype=int64),)\n"
     ]
    }
   ],
   "source": [
    "ar1=np.array([4,2,7,9,3,2,1])\n",
    "ar1=np.where(arr%2==0)\n",
    "print(\"original array :\",arr)\n",
    "print(\"\\n indexes where the values are even :\",ar1)\n"
   ]
  },
  {
   "cell_type": "code",
   "execution_count": null,
   "id": "544e10d3-8da2-4395-917f-1d0dc4dee82d",
   "metadata": {},
   "outputs": [],
   "source": [
    "#20/7/2024\n",
    "#to perform numpy functions  \n"
   ]
  },
  {
   "cell_type": "code",
   "execution_count": 2,
   "id": "34c39f2e-80d9-44f8-ba9c-f7a561060f29",
   "metadata": {},
   "outputs": [
    {
     "name": "stdout",
     "output_type": "stream",
     "text": [
      "ordinary array :\n",
      " [[-1.   2.   0.   4. ]\n",
      " [ 4.  -0.5  6.   0. ]\n",
      " [ 2.6  0.   7.   8. ]\n",
      " [ 3.  -7.   4.   2. ]]\n",
      "\n",
      " Every other rows :[0:3:2]:\n",
      " [[-1.   2.   0.   4. ]\n",
      " [ 2.6  0.   7.   8. ]]\n"
     ]
    }
   ],
   "source": [
    "import numpy as np\n",
    "arr=np.array([\n",
    "              [-1,2,0,4],\n",
    "              [4,-0.5,6,0],\n",
    "              [2.6,0,7,8],\n",
    "              [3,-7,4,2.0]\n",
    "             ])\n",
    "print(\"ordinary array :\\n\",arr)\n",
    "print(\"\\n Every other rows :[0:3:2]:\\n\",arr[0:3:2])\n"
   ]
  },
  {
   "cell_type": "code",
   "execution_count": 4,
   "id": "17ed9624-3c07-475f-a34c-e36fa8ebae8f",
   "metadata": {},
   "outputs": [
    {
     "name": "stdout",
     "output_type": "stream",
     "text": [
      "\n",
      " Elements at indices (0,3),(1,2),(2,1),(3,0): [4. 6. 0. 3.]\n"
     ]
    }
   ],
   "source": [
    "#integer array indexing example \n",
    "temp=arr[[0,1,2,3],[3,2,1,0]]\n",
    "print(\"\\n Elements at indices (0,3),(1,2),(2,1),(3,0):\",temp)\n"
   ]
  },
  {
   "cell_type": "code",
   "execution_count": 5,
   "id": "55368335-3663-4aee-974d-a402202d38f8",
   "metadata": {},
   "outputs": [
    {
     "name": "stdout",
     "output_type": "stream",
     "text": [
      "\n",
      " Elements graeter then  2:\n",
      " [4.  4.  6.  2.6 7.  8.  3.  4. ]\n"
     ]
    }
   ],
   "source": [
    "#boolean array indexing example \n",
    "cond =arr>2\n",
    "#cond is boolean array \n",
    "temp=arr[cond]\n",
    "print(\"\\n Elements graeter then  2:\\n\",temp)\n"
   ]
  },
  {
   "cell_type": "code",
   "execution_count": 8,
   "id": "659b9e3f-7237-44fd-96f6-5d8386d12b48",
   "metadata": {},
   "outputs": [
    {
     "name": "stdout",
     "output_type": "stream",
     "text": [
      "\n",
      " Original array : [1 2 3 4 5 6 7]\n",
      "\n",
      " Returns every other elements in the array[::2]: [1 3 5 7]\n"
     ]
    }
   ],
   "source": [
    "#return every other element form the entire array :\n",
    "arr=np.array([1,2,3,4,5,6,7])\n",
    "print(\"\\n Original array :\",arr)\n",
    "print(\"\\n Returns every other elements in the array[::2]:\",arr[::2])\n"
   ]
  },
  {
   "cell_type": "code",
   "execution_count": 9,
   "id": "1fb4b598-8fac-4755-b8c7-d53fce81f84f",
   "metadata": {},
   "outputs": [
    {
     "name": "stdout",
     "output_type": "stream",
     "text": [
      "[1 2 3 4 5 6]\n"
     ]
    }
   ],
   "source": [
    "#joining two array \n",
    "arr1=np.array([1,2,3])\n",
    "arr2=np.array([4,5,6])\n",
    "arr=np.concatenate((arr1,arr2))\n",
    "print(arr)\n"
   ]
  },
  {
   "cell_type": "code",
   "execution_count": 13,
   "id": "9a1461a0-fc59-488e-94c7-23ef9aa8b46b",
   "metadata": {},
   "outputs": [
    {
     "name": "stdout",
     "output_type": "stream",
     "text": [
      "[1 2 3 4 5 6]\n"
     ]
    }
   ],
   "source": [
    "#Horizontal join \n",
    "arr=np.hstack((arr1,arr2))\n",
    "print(arr)\n"
   ]
  },
  {
   "cell_type": "code",
   "execution_count": 12,
   "id": "cb0a425b-00f7-4865-aa3d-c77c7a4fa70b",
   "metadata": {},
   "outputs": [
    {
     "name": "stdout",
     "output_type": "stream",
     "text": [
      "Vertical joining :\n",
      " [[1 2 3]\n",
      " [4 5 6]]\n"
     ]
    }
   ],
   "source": [
    "#vertical join \n",
    "arr=np.vstack((arr1,arr2))\n",
    "print(\"Vertical joining :\\n\",arr)\n"
   ]
  },
  {
   "cell_type": "code",
   "execution_count": 14,
   "id": "5087ce2a-b240-495e-8433-e798b7ee87e8",
   "metadata": {},
   "outputs": [
    {
     "name": "stdout",
     "output_type": "stream",
     "text": [
      "\n",
      " Depth joining :\n",
      " [[[1 4]\n",
      "  [2 5]\n",
      "  [3 6]]]\n"
     ]
    }
   ],
   "source": [
    "#Depth join \n",
    "arr=np.dstack((arr1,arr2))\n",
    "print(\"\\n Depth joining :\\n\",arr)\n"
   ]
  },
  {
   "cell_type": "code",
   "execution_count": 17,
   "id": "0ac0260b-4aa7-46d8-bb89-49faf01c954c",
   "metadata": {},
   "outputs": [
    {
     "name": "stdout",
     "output_type": "stream",
     "text": [
      "\n",
      " Original array :\n",
      " [1 2 3 4 5 6]\n",
      "splitted array    :\n",
      " [array([1, 2]), array([3, 4]), array([5, 6])]\n",
      "[1 2]\n",
      "[3 4]\n",
      "[5 6]\n"
     ]
    }
   ],
   "source": [
    "#Splitting array \n",
    "arr=np.array([1,2,3,4,5,6])\n",
    "newarr=np.array_split(arr,3)\n",
    "print(\"\\n Original array :\\n\",arr)\n",
    "print(\"splitted array    :\\n\",newarr)\n",
    "#displaying splitted array in another form \n",
    "print(newarr[0])\n",
    "print(newarr[1])\n",
    "print(newarr[2])\n",
    "\n"
   ]
  },
  {
   "cell_type": "code",
   "execution_count": null,
   "id": "4724781e-96f6-4b51-b2e4-e0a8972089c3",
   "metadata": {},
   "outputs": [],
   "source": [
    "# EXPERIMENT 3 Numpy -3 To perform numpy operations "
   ]
  },
  {
   "cell_type": "code",
   "execution_count": 23,
   "id": "8e543ce2-f45c-4fa1-987f-544e31147f6d",
   "metadata": {},
   "outputs": [
    {
     "name": "stdout",
     "output_type": "stream",
     "text": [
      "original array: [1 2 3 4 5 4 4 5]\n",
      "(array([4, 7], dtype=int64),)\n"
     ]
    }
   ],
   "source": [
    "import numpy as np\n",
    "#indexes where the value of four is :\n",
    "arr=np.array([1,2,3,4,5,4,4,5])\n",
    "print(\"original array:\",arr)\n",
    "x=np.where(arr==5)\n",
    "print(x)\n"
   ]
  },
  {
   "cell_type": "code",
   "execution_count": 24,
   "id": "11ae9c4f-dc2e-4d65-932d-5f8d2680b009",
   "metadata": {},
   "outputs": [
    {
     "name": "stdout",
     "output_type": "stream",
     "text": [
      "\n",
      " the Original array \n",
      " [1 2 3 4 5 6 7 8]\n",
      "\n",
      " the index where the values are even : (array([1, 3, 5, 7], dtype=int64),)\n"
     ]
    }
   ],
   "source": [
    "# indexes where the values are even :\n",
    "arr=np.array([1,2,3,4,5,6,7,8])\n",
    "x=np.where(arr%2==0)\n",
    "print(\"\\n the Original array \\n\",arr)\n",
    "print(\"\\n the index where the values are even :\",x)\n"
   ]
  },
  {
   "cell_type": "code",
   "execution_count": 27,
   "id": "fc02f873-c8b8-482a-ad05-b24fbcf6a679",
   "metadata": {},
   "outputs": [
    {
     "name": "stdout",
     "output_type": "stream",
     "text": [
      "\n",
      "idexes where the value 3 should be inserted, starting from the right : 2\n"
     ]
    }
   ],
   "source": [
    "#indexes where the values 3 should be inserted , stsrting from right \n",
    "x=np.searchsorted(arr,3,side='left')\n",
    "print(\"\\nidexes where the value 3 should be inserted, starting from the right :\",x)\n"
   ]
  },
  {
   "cell_type": "code",
   "execution_count": 29,
   "id": "e8cfc845-2aac-4e12-a002-96f62dfb60a8",
   "metadata": {},
   "outputs": [
    {
     "name": "stdout",
     "output_type": "stream",
     "text": [
      "\n",
      " original array : [3 2 0 1]\n",
      "\n",
      " Sorted array: [0 1 2 3]\n",
      "\n",
      " Original array: [[3 2 1]\n",
      " [5 0 1]]\n",
      "\n",
      " Sorted array  : [[1 2 3]\n",
      " [0 1 5]]\n"
     ]
    }
   ],
   "source": [
    "#Sorting the array \n",
    "arr=np.array([3,2,0,1])\n",
    "print(\"\\n original array :\",arr)\n",
    "print(\"\\n Sorted array:\",np.sort(arr))\n",
    "\n",
    "arr=np.array([[3,2,1],[5,0,1]])\n",
    "print(\"\\n Original array:\",arr)\n",
    "print(\"\\n Sorted array  :\",np.sort(arr))\n"
   ]
  },
  {
   "cell_type": "code",
   "execution_count": 40,
   "id": "8560fd68-7405-4575-b95e-1a956fdb5a25",
   "metadata": {},
   "outputs": [
    {
     "name": "stdout",
     "output_type": "stream",
     "text": [
      "\n",
      " filter index : [True, False, True, False]\n",
      "\n",
      " filter array : [41 43]\n",
      "\n",
      " Filter array : condition -> 42: [False False  True  True]\n",
      "\n",
      " New array    : [43 44]\n"
     ]
    }
   ],
   "source": [
    "#filter \n",
    "arr=np.array([41,42,43,44])\n",
    "x=[True, False, True, False]\n",
    "newarr=arr[x]\n",
    "print(\"\\n filter index :\",x)\n",
    "print(\"\\n filter array :\",newarr)\n",
    "\n",
    "arr=np.array([41,42,43,44])\n",
    "fil_arr=arr>42\n",
    "newarr=arr[fil_arr]\n",
    "print(\"\\n Filter array : condition -> 42:\",fil_arr)\n",
    "print(\"\\n New array    :\",newarr)\n",
    "\n",
    "\n"
   ]
  },
  {
   "cell_type": "code",
   "execution_count": 3,
   "id": "00117af5-a071-49d7-b28d-04aed7562ec6",
   "metadata": {},
   "outputs": [
    {
     "name": "stdout",
     "output_type": "stream",
     "text": [
      "vector addition\n",
      "[12 24 35 48 59]\n",
      "\n",
      " vector difference\n",
      "[ 8 16 25 32 41]\n",
      "\n",
      " vector multiplication\n",
      "[ 20  80 150 320 450]\n",
      "\n",
      " vector division\n",
      "[5.         5.         6.         5.         5.55555556]\n",
      "\n",
      " vector dot product\n",
      "1020\n",
      "\n",
      " scalar multiplication\n",
      "result [ 50 100 150 200 250]\n"
     ]
    }
   ],
   "source": [
    "import numpy as np\n",
    "arr1=[10,20,30,40,50]\n",
    "arr2=[2,4,5,8,9]\n",
    "a=np.array(arr1)\n",
    "b=np.array(arr2)\n",
    "print(\"vector addition\")\n",
    "print(a+b)\n",
    "print(\"\\n vector difference\")\n",
    "print(a-b)\n",
    "print(\"\\n vector multiplication\")\n",
    "print(a*b)\n",
    "print(\"\\n vector division\")\n",
    "print(a/b)\n",
    "print(\"\\n vector dot product\")\n",
    "print(a.dot(b))\n",
    "print(\"\\n scalar multiplication\")\n",
    "s=5\n",
    "print(\"result\",a*s)\n"
   ]
  },
  {
   "cell_type": "code",
   "execution_count": null,
   "id": "91e23569-f452-484e-ae66-9a6f2fdbe3ad",
   "metadata": {},
   "outputs": [],
   "source": []
  }
 ],
 "metadata": {
  "kernelspec": {
   "display_name": "Python 3 (ipykernel)",
   "language": "python",
   "name": "python3"
  },
  "language_info": {
   "codemirror_mode": {
    "name": "ipython",
    "version": 3
   },
   "file_extension": ".py",
   "mimetype": "text/x-python",
   "name": "python",
   "nbconvert_exporter": "python",
   "pygments_lexer": "ipython3",
   "version": "3.11.7"
  }
 },
 "nbformat": 4,
 "nbformat_minor": 5
}
