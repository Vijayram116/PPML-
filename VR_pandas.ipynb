{
 "cells": [
  {
   "cell_type": "code",
   "execution_count": 9,
   "id": "e2c7021b-d7d7-407a-a53b-4079cdb30193",
   "metadata": {},
   "outputs": [
    {
     "name": "stdout",
     "output_type": "stream",
     "text": [
      "Empty DataFrame\n",
      "Columns: []\n",
      "Index: []\n"
     ]
    }
   ],
   "source": [
    "import pandas as pd \n",
    "df=pd.DataFrame()\n",
    "print(df)"
   ]
  },
  {
   "cell_type": "code",
   "execution_count": 13,
   "id": "1ee22b58-a4f5-49df-9e9c-fd12800a181a",
   "metadata": {},
   "outputs": [
    {
     "name": "stdout",
     "output_type": "stream",
     "text": [
      "       Emp   id\n",
      "0   parker  102\n",
      "1     jhon  107\n",
      "2    smith  109\n",
      "3  william  114\n"
     ]
    }
   ],
   "source": [
    "emp=pd.Series(['parker', 'jhon','smith','william'])\n",
    "id=pd.Series([102,107,109,114])\n",
    "frame={'Emp':emp,'id':id}\n",
    "result=pd.DataFrame(frame)\n",
    "print(result)\n"
   ]
  },
  {
   "cell_type": "code",
   "execution_count": 14,
   "id": "364bf3d8-87d0-4d27-9aec-de3c56db41bf",
   "metadata": {},
   "outputs": [
    {
     "name": "stdout",
     "output_type": "stream",
     "text": [
      "       Emp   id  age\n",
      "0   parker  102   35\n",
      "1     jhon  107   24\n",
      "2    smith  109   40\n",
      "3  william  114  380\n"
     ]
    }
   ],
   "source": [
    "#extracting one column \n",
    "result['age']=pd.Series([35,24,40,380])\n",
    "print(result)"
   ]
  },
  {
   "cell_type": "code",
   "execution_count": 15,
   "id": "9844d9c9-5d2f-442f-a41d-f21cc252fa1a",
   "metadata": {},
   "outputs": [
    {
     "name": "stdout",
     "output_type": "stream",
     "text": [
      "       Emp   id\n",
      "0   parker  102\n",
      "1     jhon  107\n",
      "2    smith  109\n",
      "3  william  114\n"
     ]
    }
   ],
   "source": [
    "#deleting a new column \n",
    "del result['age']\n",
    "print(result)\n"
   ]
  },
  {
   "cell_type": "code",
   "execution_count": 17,
   "id": "77aac50e-a234-4ec7-9509-41a5d168dc6a",
   "metadata": {},
   "outputs": [
    {
     "name": "stdout",
     "output_type": "stream",
     "text": [
      "Emp    jhon\n",
      "id      107\n",
      "Name: 1, dtype: object\n"
     ]
    }
   ],
   "source": [
    "#extracrting the third row \n",
    "print(result.loc[1])\n"
   ]
  },
  {
   "cell_type": "code",
   "execution_count": 18,
   "id": "09097e33-18b7-46e9-83e1-573177bfa901",
   "metadata": {},
   "outputs": [
    {
     "name": "stdout",
     "output_type": "stream",
     "text": [
      "     Emp   id\n",
      "1   jhon  107\n",
      "2  smith  109\n"
     ]
    }
   ],
   "source": [
    "#slicing \n",
    "print(result[1:3])\n"
   ]
  },
  {
   "cell_type": "code",
   "execution_count": 24,
   "id": "73062ed4-5d52-459c-b73f-eb2357792b23",
   "metadata": {},
   "outputs": [
    {
     "name": "stdout",
     "output_type": "stream",
     "text": [
      "   p  q\n",
      "0  2  7\n",
      "1  2  7\n",
      "2  2  7\n",
      "\n",
      " square root of data frame :\n",
      "           p         q\n",
      "0  1.414214  2.645751\n",
      "1  1.414214  2.645751\n",
      "2  1.414214  2.645751\n",
      "\n",
      " sum of each column:\n",
      " p     6\n",
      "q    21\n",
      "dtype: int64\n",
      "\n",
      " sum of ach row :\n",
      " 0    9\n",
      "1    9\n",
      "2    9\n",
      "dtype: int64\n"
     ]
    }
   ],
   "source": [
    "import pandas as pd \n",
    "import numpy as np\n",
    "#data frmae . apply function \n",
    "info=pd.DataFrame([[2,7]]*3,columns=['p','q'])\n",
    "print(info)\n",
    "print(\"\\n square root of data frame :\\n\",info.apply(np.sqrt))\n",
    "print(\"\\n sum of each column:\\n\",info.apply(np.sum,axis=0))\n",
    "print(\"\\n sum of ach row :\\n\",info.apply(np.sum,axis=1))\n",
    "      "
   ]
  },
  {
   "cell_type": "code",
   "execution_count": 29,
   "id": "260678a6-2a96-4328-9738-be2cac2db1ec",
   "metadata": {},
   "outputs": [
    {
     "name": "stdout",
     "output_type": "stream",
     "text": [
      "   X  Y  Z\n",
      "0  1  5  7\n",
      "1  2  7  8\n",
      "2  3  6  9\n"
     ]
    }
   ],
   "source": [
    "info=pd.DataFrame([[1,5,7],[2,7,8],[3,6,9]],columns=['X','Y','Z'])\n",
    "print(info)"
   ]
  },
  {
   "cell_type": "code",
   "execution_count": 31,
   "id": "972bcd1c-b771-4d97-afbc-4da492dd7a37",
   "metadata": {},
   "outputs": [
    {
     "name": "stdout",
     "output_type": "stream",
     "text": [
      "    Emp   id\n",
      "0  Dale  123\n",
      "1  mark  143\n"
     ]
    }
   ],
   "source": [
    "#data frame .assign function \n",
    "d2=pd.DataFrame([['Dale',123],['mark',143]],columns=['Emp','id'])\n",
    "print(d2)\n"
   ]
  },
  {
   "cell_type": "code",
   "execution_count": 32,
   "id": "d595b4c6-8f71-431b-b89f-73f3cd0ac17c",
   "metadata": {},
   "outputs": [
    {
     "name": "stdout",
     "output_type": "stream",
     "text": [
      "    Emp   id  age\n",
      "0  Dale  123   35\n",
      "1  mark  143   40\n"
     ]
    }
   ],
   "source": [
    "d2['age']=[35,40]\n",
    "print(d2)"
   ]
  },
  {
   "cell_type": "code",
   "execution_count": 34,
   "id": "ac23770f-ae40-46f7-87a4-0ab46e4001dc",
   "metadata": {},
   "outputs": [
    {
     "name": "stdout",
     "output_type": "stream",
     "text": [
      "    Emp   id  age   sex\n",
      "0  Dale  123   35  male\n",
      "1  mark  143   40  male\n"
     ]
    }
   ],
   "source": [
    "#adding a new column \n",
    "d=d2.assign(sex=['male','male'])\n",
    "print(d)"
   ]
  },
  {
   "cell_type": "code",
   "execution_count": 39,
   "id": "46c8b286-f256-48e4-a3eb-a3b30d0ff6c6",
   "metadata": {},
   "outputs": [
    {
     "name": "stdout",
     "output_type": "stream",
     "text": [
      "       col3      col4\n",
      "3  0.812693  0.377551\n",
      "2 -1.068750 -0.767255\n",
      "0 -0.943080  0.659934\n",
      "4 -1.420553 -1.567189\n",
      "1  0.295467  0.020441\n",
      "\n",
      " Sort index\n",
      " :        col3      col4\n",
      "0 -0.943080  0.659934\n",
      "1  0.295467  0.020441\n",
      "2 -1.068750 -0.767255\n",
      "3  0.812693  0.377551\n",
      "4 -1.420553 -1.567189\n",
      "\n",
      " sort values :\n",
      "        col3      col4\n",
      "4 -1.420553 -1.567189\n",
      "2 -1.068750 -0.767255\n",
      "0 -0.943080  0.659934\n",
      "1  0.295467  0.020441\n",
      "3  0.812693  0.377551\n"
     ]
    }
   ],
   "source": [
    "#DataFrme.sort function \n",
    "info=pd.DataFrame(np.random.randn(5,2),index=[3,2,0,4,1],columns=['col3','col4'])\n",
    "print(info)\n",
    "\n",
    "#sort by index \n",
    "info2=info.sort_index()\n",
    "print(\"\\n Sort index\\n :\",info2)\n",
    "\n",
    "#sort by value\n",
    "info3=info.sort_values(by='col3')\n",
    "print('\\n sort values :\\n',info3)\n",
    "\n"
   ]
  },
  {
   "cell_type": "code",
   "execution_count": 20,
   "id": "3abecc8e-4407-4a46-b402-6112d6caf436",
   "metadata": {},
   "outputs": [
    {
     "name": "stdout",
     "output_type": "stream",
     "text": [
      "   id  Name_x sub_x Name_y sub_y\n",
      "0   1    Alex  sub1  Billy  sub2\n",
      "1   2     Amy  sub2  Brain  sub4\n",
      "2   3   Allen  sub4   Bran  sub3\n",
      "3   4   Alice  sub6  Bryce  sub6\n",
      "4   5  Ayoung  sub5  Betty  sub5\n"
     ]
    }
   ],
   "source": [
    "left=pd.DataFrame({\n",
    "    'id':[1,2,3,4,5],\n",
    "    'Name':['Alex','Amy','Allen','Alice','Ayoung'],\n",
    "    'sub':['sub1','sub2','sub4','sub6','sub5']})\n",
    "right=pd.DataFrame({\n",
    "    'id':[1,2,3,4,5],\n",
    "    'Name':['Billy','Brain','Bran','Bryce','Betty'],\n",
    "    'sub':['sub2','sub4','sub3','sub6','sub5']})\n",
    "print(pd.merge(left,right,on='id'))"
   ]
  },
  {
   "cell_type": "code",
   "execution_count": 25,
   "id": "86474630-7115-46bc-bafc-51cf140517c9",
   "metadata": {},
   "outputs": [
    {
     "name": "stdout",
     "output_type": "stream",
     "text": [
      "['p' 'a' 'n' 'd' 'a' 's']\n",
      "x    0.0\n",
      "y    1.0\n",
      "z    2.0\n",
      "dtype: float64\n"
     ]
    }
   ],
   "source": [
    "#pandas series \n",
    "import pandas as pd\n",
    "import numpy as np\n",
    "arr=np.array(['p','a','n','d','a','s'])\n",
    "print(arr)\n",
    "\n",
    "#series from dictnary \n",
    "arr={'x':0.,'y':1.,'z':2}\n",
    "b=pd.Series(arr)\n",
    "print(b)"
   ]
  },
  {
   "cell_type": "code",
   "execution_count": 26,
   "id": "fd9ab464-b59a-4b2c-9ff3-6e6bb3a8feb0",
   "metadata": {},
   "outputs": [
    {
     "name": "stdout",
     "output_type": "stream",
     "text": [
      "\n",
      " Series using scalar\n",
      " \n",
      "0    4\n",
      "1    4\n",
      "2    4\n",
      "3    4\n",
      "dtype: int64\n"
     ]
    }
   ],
   "source": [
    "#Series using scalar \n",
    "x=pd.Series(4,index=[0,1,2,3])\n",
    "print(\"\\n Series using scalar\\n \")\n",
    "print(x)"
   ]
  },
  {
   "cell_type": "code",
   "execution_count": 27,
   "id": "925470bb-6019-4a5f-aac3-93534233a65f",
   "metadata": {},
   "outputs": [
    {
     "name": "stdout",
     "output_type": "stream",
     "text": [
      "0    1\n",
      "1    2\n",
      "2    3\n",
      "3    4\n",
      "dtype: int64\n"
     ]
    }
   ],
   "source": [
    "#series through index \n",
    "x=pd.Series(data=[1,2,3,4])\n",
    "print(x)\n"
   ]
  },
  {
   "cell_type": "code",
   "execution_count": 34,
   "id": "9561343a-5840-4c4e-ad98-66ff3ddf94da",
   "metadata": {},
   "outputs": [
    {
     "name": "stdout",
     "output_type": "stream",
     "text": [
      "    First Name  Gender  Start Date Last Login Time  Salary  Bonus %  \\\n",
      "0      Douglas    Male    8/6/1993        12:42 PM   97308    6.945   \n",
      "1       Thomas    Male   3/31/1996         6:53 AM   61933    4.170   \n",
      "2        Maria  Female   4/23/1993        11:17 AM  130590   11.858   \n",
      "3        Jerry    Male    3/4/2005         1:00 PM  138705    9.340   \n",
      "4        Larry    Male   1/24/1998         4:47 PM  101004    1.389   \n",
      "..         ...     ...         ...             ...     ...      ...   \n",
      "995      Henry     NaN  11/23/2014         6:09 AM  132483   16.655   \n",
      "996    Phillip    Male   1/31/1984         6:30 AM   42392   19.675   \n",
      "997    Russell    Male   5/20/2013        12:39 PM   96914    1.421   \n",
      "998      Larry    Male   4/20/2013         4:45 PM   60500   11.985   \n",
      "999     Albert    Male   5/15/2012         6:24 PM  129949   10.169   \n",
      "\n",
      "    Senior Management                  Team  \n",
      "0                True             Marketing  \n",
      "1                True                   NaN  \n",
      "2               False               Finance  \n",
      "3                True               Finance  \n",
      "4                True       Client Services  \n",
      "..                ...                   ...  \n",
      "995             False          Distribution  \n",
      "996             False               Finance  \n",
      "997             False               Product  \n",
      "998             False  Business Development  \n",
      "999              True                 Sales  \n",
      "\n",
      "[1000 rows x 8 columns]\n"
     ]
    }
   ],
   "source": [
    "#LOAD\n",
    "import pandas as pd\n",
    "d=pd.read_csv(r\"C:\\Users\\Tcs\\Downloads\\employees - employees.csv\")\n",
    "print(d)"
   ]
  },
  {
   "cell_type": "code",
   "execution_count": 35,
   "id": "72762a46-2e80-44be-865e-3a816eded34f",
   "metadata": {},
   "outputs": [
    {
     "name": "stdout",
     "output_type": "stream",
     "text": [
      "    First Name  Gender  Start Date Last Login Time  Salary  Bonus %  \\\n",
      "0      Douglas    Male    8/6/1993        12:42 PM   97308    6.945   \n",
      "1       Thomas    Male   3/31/1996         6:53 AM   61933    4.170   \n",
      "2        Maria  Female   4/23/1993        11:17 AM  130590   11.858   \n",
      "3        Jerry    Male    3/4/2005         1:00 PM  138705    9.340   \n",
      "4        Larry    Male   1/24/1998         4:47 PM  101004    1.389   \n",
      "..         ...     ...         ...             ...     ...      ...   \n",
      "995      Henry     NaN  11/23/2014         6:09 AM  132483   16.655   \n",
      "996    Phillip    Male   1/31/1984         6:30 AM   42392   19.675   \n",
      "997    Russell    Male   5/20/2013        12:39 PM   96914    1.421   \n",
      "998      Larry    Male   4/20/2013         4:45 PM   60500   11.985   \n",
      "999     Albert    Male   5/15/2012         6:24 PM  129949   10.169   \n",
      "\n",
      "    Senior Management                  Team  \n",
      "0                True             Marketing  \n",
      "1                True                   NaN  \n",
      "2               False               Finance  \n",
      "3                True               Finance  \n",
      "4                True       Client Services  \n",
      "..                ...                   ...  \n",
      "995             False          Distribution  \n",
      "996             False               Finance  \n",
      "997             False               Product  \n",
      "998             False  Business Development  \n",
      "999              True                 Sales  \n",
      "\n",
      "[1000 rows x 8 columns]\n"
     ]
    }
   ],
   "source": [
    "df=pd.DataFrame(d)\n",
    "print(df)\n"
   ]
  },
  {
   "cell_type": "code",
   "execution_count": null,
   "id": "26628e1b-649e-4515-8129-b5863c8dc83e",
   "metadata": {},
   "outputs": [],
   "source": [
    "print(\"\\"
   ]
  }
 ],
 "metadata": {
  "kernelspec": {
   "display_name": "Python 3 (ipykernel)",
   "language": "python",
   "name": "python3"
  },
  "language_info": {
   "codemirror_mode": {
    "name": "ipython",
    "version": 3
   },
   "file_extension": ".py",
   "mimetype": "text/x-python",
   "name": "python",
   "nbconvert_exporter": "python",
   "pygments_lexer": "ipython3",
   "version": "3.11.7"
  }
 },
 "nbformat": 4,
 "nbformat_minor": 5
}
